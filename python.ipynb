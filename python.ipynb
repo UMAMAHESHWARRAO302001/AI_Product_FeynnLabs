{
  "nbformat": 4,
  "nbformat_minor": 0,
  "metadata": {
    "colab": {
      "provenance": [],
      "authorship_tag": "ABX9TyNeVePf2l+OWaNz+XAjVdN1",
      "include_colab_link": true
    },
    "kernelspec": {
      "name": "python3",
      "display_name": "Python 3"
    },
    "language_info": {
      "name": "python"
    }
  },
  "cells": [
    {
      "cell_type": "markdown",
      "metadata": {
        "id": "view-in-github",
        "colab_type": "text"
      },
      "source": [
        "<a href=\"https://colab.research.google.com/github/UMAMAHESHWARRAO302001/AI_Product_FeynnLabs/blob/main/python.ipynb\" target=\"_parent\"><img src=\"https://colab.research.google.com/assets/colab-badge.svg\" alt=\"Open In Colab\"/></a>"
      ]
    },
    {
      "cell_type": "code",
      "execution_count": null,
      "metadata": {
        "id": "MvBzp68Jw7iq"
      },
      "outputs": [],
      "source": [
        "# lambda function is a annoynmous function which have more than one arguements and one expression"
      ]
    },
    {
      "cell_type": "code",
      "source": [
        "square = lambda x : x**2"
      ],
      "metadata": {
        "id": "H7ajQow-xZeq"
      },
      "execution_count": null,
      "outputs": []
    },
    {
      "cell_type": "code",
      "source": [
        "square(5)"
      ],
      "metadata": {
        "colab": {
          "base_uri": "https://localhost:8080/"
        },
        "id": "DKA2MPu1xe0S",
        "outputId": "c16d0333-dff7-4ceb-83a4-1f1251319151"
      },
      "execution_count": null,
      "outputs": [
        {
          "output_type": "execute_result",
          "data": {
            "text/plain": [
              "25"
            ]
          },
          "metadata": {},
          "execution_count": 4
        }
      ]
    },
    {
      "cell_type": "code",
      "source": [
        "#list comphrension : it is used to create a list"
      ],
      "metadata": {
        "id": "ZtYqDxC2xkp3"
      },
      "execution_count": null,
      "outputs": []
    },
    {
      "cell_type": "code",
      "source": [
        "squares = [i**2 for i in range(1,6) if i%2==0]"
      ],
      "metadata": {
        "id": "lqqPok8LxunX"
      },
      "execution_count": null,
      "outputs": []
    },
    {
      "cell_type": "code",
      "source": [
        "squares"
      ],
      "metadata": {
        "colab": {
          "base_uri": "https://localhost:8080/"
        },
        "id": "Lhv4GQwKx2pw",
        "outputId": "48d3386f-e6bc-43e5-fad0-75cfb1310300"
      },
      "execution_count": null,
      "outputs": [
        {
          "output_type": "execute_result",
          "data": {
            "text/plain": [
              "[4, 16]"
            ]
          },
          "metadata": {},
          "execution_count": 7
        }
      ]
    },
    {
      "cell_type": "code",
      "source": [
        "# generators are used to create a iterators but with different approach. Generators are simple functions which returns an iterable set of items, one at a time"
      ],
      "metadata": {
        "id": "ZEHOAscSx4G1"
      },
      "execution_count": null,
      "outputs": []
    },
    {
      "cell_type": "code",
      "source": [
        "def fib():\n",
        "    a, b = 1, 1\n",
        "    while 1:\n",
        "        yield a\n",
        "        a, b = b, a + b\n",
        "\n",
        "# testing code\n",
        "import types\n",
        "if type(fib()) == types.GeneratorType:\n",
        "    print(\"Good, The fib function is a generator.\")\n",
        "\n",
        "    counter = 0\n",
        "    for n in fib():\n",
        "        print(n)\n",
        "        counter += 1\n",
        "        if counter == 10:\n",
        "            break"
      ],
      "metadata": {
        "colab": {
          "base_uri": "https://localhost:8080/"
        },
        "id": "S7YUe5dmylQA",
        "outputId": "b23dc03b-2dfe-44ed-caa9-bb303e1a09e7"
      },
      "execution_count": null,
      "outputs": [
        {
          "output_type": "stream",
          "name": "stdout",
          "text": [
            "Good, The fib function is a generator.\n",
            "1\n",
            "1\n",
            "2\n",
            "3\n",
            "5\n",
            "8\n",
            "13\n",
            "21\n",
            "34\n",
            "55\n"
          ]
        }
      ]
    },
    {
      "cell_type": "code",
      "source": [
        "# generator Function"
      ],
      "metadata": {
        "id": "apfGghga01mO"
      },
      "execution_count": null,
      "outputs": []
    },
    {
      "cell_type": "code",
      "source": [
        "\n",
        "def simple_generator(n):\n",
        "  for i in range(n):\n",
        "    yield i"
      ],
      "metadata": {
        "id": "E1qJyFcKzb1y"
      },
      "execution_count": null,
      "outputs": []
    },
    {
      "cell_type": "code",
      "source": [
        "gen = simple_generator(5)"
      ],
      "metadata": {
        "id": "DHhMYasm0Lf7"
      },
      "execution_count": null,
      "outputs": []
    },
    {
      "cell_type": "code",
      "source": [
        "for value in gen:\n",
        "  print(value)"
      ],
      "metadata": {
        "colab": {
          "base_uri": "https://localhost:8080/"
        },
        "id": "duUIl2M20hj7",
        "outputId": "fea0f150-0a0a-4e8a-a24f-c6f59810268b"
      },
      "execution_count": null,
      "outputs": [
        {
          "output_type": "stream",
          "name": "stdout",
          "text": [
            "0\n",
            "1\n",
            "2\n",
            "3\n",
            "4\n"
          ]
        }
      ]
    },
    {
      "cell_type": "code",
      "source": [
        "\n",
        "def simple(n):\n",
        "  for i in range(n):\n",
        "    return i"
      ],
      "metadata": {
        "id": "PkTjDhCI0PXb"
      },
      "execution_count": null,
      "outputs": []
    },
    {
      "cell_type": "code",
      "source": [
        "simple(5)"
      ],
      "metadata": {
        "colab": {
          "base_uri": "https://localhost:8080/"
        },
        "id": "C2ZMOJ9m0VT0",
        "outputId": "c1aa1389-15f3-4d43-86c7-346632386149"
      },
      "execution_count": null,
      "outputs": [
        {
          "output_type": "execute_result",
          "data": {
            "text/plain": [
              "0"
            ]
          },
          "metadata": {},
          "execution_count": 13
        }
      ]
    },
    {
      "cell_type": "code",
      "source": [
        "# generator expression : same like list comphrension but we use parenthesis instead of square brackets"
      ],
      "metadata": {
        "id": "grSzq0-n0W6x"
      },
      "execution_count": null,
      "outputs": []
    },
    {
      "cell_type": "code",
      "source": [
        "squa = ((i**2 for i in range(1,5)))"
      ],
      "metadata": {
        "id": "R9u3GWSk07TJ"
      },
      "execution_count": null,
      "outputs": []
    },
    {
      "cell_type": "code",
      "source": [
        "for value in squa:\n",
        "  print(value)"
      ],
      "metadata": {
        "colab": {
          "base_uri": "https://localhost:8080/"
        },
        "id": "E-w0yrdY1Oxd",
        "outputId": "e093a25c-9b65-4f01-be15-fafab304678f"
      },
      "execution_count": null,
      "outputs": [
        {
          "output_type": "stream",
          "name": "stdout",
          "text": [
            "1\n",
            "4\n",
            "9\n",
            "16\n"
          ]
        }
      ]
    },
    {
      "cell_type": "code",
      "source": [
        "\n",
        "#fibonacci using generators"
      ],
      "metadata": {
        "id": "E9m2fl6s1SVF"
      },
      "execution_count": null,
      "outputs": []
    },
    {
      "cell_type": "code",
      "source": [
        "def fibonacci():\n",
        "  a,b = 0,1\n",
        "  while True:\n",
        "    yield a\n",
        "    a,b = b,a+b"
      ],
      "metadata": {
        "id": "5SXlJJwA1ks6"
      },
      "execution_count": null,
      "outputs": []
    },
    {
      "cell_type": "code",
      "source": [
        "fibo = fibonacci()"
      ],
      "metadata": {
        "id": "rDkadxv21xlK"
      },
      "execution_count": null,
      "outputs": []
    },
    {
      "cell_type": "code",
      "source": [
        "for _ in range(10):\n",
        "  print(next(fibo))"
      ],
      "metadata": {
        "colab": {
          "base_uri": "https://localhost:8080/"
        },
        "id": "jK7tCAP82AoR",
        "outputId": "a86d9808-9bbb-4ca3-b321-312f6edafc3e"
      },
      "execution_count": null,
      "outputs": [
        {
          "output_type": "stream",
          "name": "stdout",
          "text": [
            "0\n",
            "1\n",
            "1\n",
            "2\n",
            "3\n",
            "5\n",
            "8\n",
            "13\n",
            "21\n",
            "34\n"
          ]
        }
      ]
    },
    {
      "cell_type": "code",
      "source": [
        "def fibon():\n",
        "  a,b = 0,1\n",
        "  while True:\n",
        "    yield a\n",
        "    a,b = b, a+b"
      ],
      "metadata": {
        "id": "u1uv1Z1n2BXK"
      },
      "execution_count": null,
      "outputs": []
    },
    {
      "cell_type": "code",
      "source": [
        "gen = fibon()"
      ],
      "metadata": {
        "id": "fuH7-4Sr3K0v"
      },
      "execution_count": null,
      "outputs": []
    },
    {
      "cell_type": "code",
      "source": [
        "for _ in range(10):\n",
        "  print(next(gen))"
      ],
      "metadata": {
        "colab": {
          "base_uri": "https://localhost:8080/"
        },
        "id": "RXkIpADK3Mz4",
        "outputId": "63b53e8c-2695-4310-de79-753e4b92eb24"
      },
      "execution_count": null,
      "outputs": [
        {
          "output_type": "stream",
          "name": "stdout",
          "text": [
            "0\n",
            "1\n",
            "1\n",
            "2\n",
            "3\n",
            "5\n",
            "8\n",
            "13\n",
            "21\n",
            "34\n"
          ]
        }
      ]
    },
    {
      "cell_type": "code",
      "source": [
        "#list comprehension : it is a powerful tool it is used to create a new list from another list in a single line of code"
      ],
      "metadata": {
        "id": "ihUAGXrf5fi4"
      },
      "execution_count": null,
      "outputs": []
    },
    {
      "cell_type": "code",
      "source": [],
      "metadata": {
        "id": "6x4JLMHy5vCL"
      },
      "execution_count": null,
      "outputs": []
    },
    {
      "cell_type": "code",
      "source": [
        "numbers = [34.6, -203.4, 44.9, 68.3, -12.2, 44.6, 12.7]"
      ],
      "metadata": {
        "id": "hl1bB6J53Rdz"
      },
      "execution_count": null,
      "outputs": []
    },
    {
      "cell_type": "code",
      "source": [
        "positive_ = [ num for num in numbers if num>0]"
      ],
      "metadata": {
        "id": "cdHjxR8N5v7D"
      },
      "execution_count": null,
      "outputs": []
    },
    {
      "cell_type": "code",
      "source": [
        "positive_"
      ],
      "metadata": {
        "colab": {
          "base_uri": "https://localhost:8080/"
        },
        "id": "z88EZZxX52QL",
        "outputId": "4ac51811-8bee-4876-d810-7b28d5730f25"
      },
      "execution_count": null,
      "outputs": [
        {
          "output_type": "execute_result",
          "data": {
            "text/plain": [
              "[34.6, 44.9, 68.3, 44.6, 12.7]"
            ]
          },
          "metadata": {},
          "execution_count": 53
        }
      ]
    },
    {
      "cell_type": "code",
      "source": [
        "names = ['uma','mahesh','manish']"
      ],
      "metadata": {
        "id": "09h6kyzZ4eoO"
      },
      "execution_count": null,
      "outputs": []
    },
    {
      "cell_type": "code",
      "source": [
        "name_len = [ name for name in names if name[0] == 'm']"
      ],
      "metadata": {
        "id": "IFUs_28i5EjJ"
      },
      "execution_count": null,
      "outputs": []
    },
    {
      "cell_type": "code",
      "source": [
        "name_len"
      ],
      "metadata": {
        "colab": {
          "base_uri": "https://localhost:8080/"
        },
        "id": "bEUaYzd65M5h",
        "outputId": "f909ad67-1ad8-4c98-d448-4868bf64d4a0"
      },
      "execution_count": null,
      "outputs": [
        {
          "output_type": "execute_result",
          "data": {
            "text/plain": [
              "['mahesh', 'manish']"
            ]
          },
          "metadata": {},
          "execution_count": 50
        }
      ]
    },
    {
      "cell_type": "code",
      "source": [
        "for name in names:\n",
        "  print(len(name))"
      ],
      "metadata": {
        "colab": {
          "base_uri": "https://localhost:8080/"
        },
        "id": "m6rNy_ZN45UT",
        "outputId": "cb0e81b6-c18e-4704-bff7-a14d93f15be8"
      },
      "execution_count": null,
      "outputs": [
        {
          "output_type": "stream",
          "name": "stdout",
          "text": [
            "3\n",
            "6\n",
            "6\n"
          ]
        }
      ]
    },
    {
      "cell_type": "code",
      "source": [
        "# lambda function : it is annomous function where we can declare more than one arguements and single expression. when it comes to traditional function 1we declare the functyion at somewhere and we call it at somewhere but when it comes to lambda we can do it in same place like declaring and calling can be done at same place"
      ],
      "metadata": {
        "id": "nHpZxRGY49N3"
      },
      "execution_count": null,
      "outputs": []
    },
    {
      "cell_type": "code",
      "source": [
        "sum = lambda x,y : x+y"
      ],
      "metadata": {
        "id": "2z2hP45k7B29"
      },
      "execution_count": null,
      "outputs": []
    },
    {
      "cell_type": "code",
      "source": [
        "sum(4,5)"
      ],
      "metadata": {
        "colab": {
          "base_uri": "https://localhost:8080/"
        },
        "id": "72VJIw_W7IWj",
        "outputId": "e043290d-7338-4d99-81ef-e64240f651d3"
      },
      "execution_count": null,
      "outputs": [
        {
          "output_type": "execute_result",
          "data": {
            "text/plain": [
              "9"
            ]
          },
          "metadata": {},
          "execution_count": 56
        }
      ]
    },
    {
      "cell_type": "code",
      "source": [
        "l = [2,4,7,3,14,19]"
      ],
      "metadata": {
        "id": "ZGCkEORp7JaL"
      },
      "execution_count": null,
      "outputs": []
    },
    {
      "cell_type": "code",
      "source": [
        "for i in l:\n",
        "  odd = lambda x : x%2!=0\n",
        "  print(odd(i))"
      ],
      "metadata": {
        "colab": {
          "base_uri": "https://localhost:8080/"
        },
        "id": "RTrXbs3U7pJ_",
        "outputId": "eefc736f-3c91-4ce7-cda9-9638cc826e12"
      },
      "execution_count": null,
      "outputs": [
        {
          "output_type": "stream",
          "name": "stdout",
          "text": [
            "False\n",
            "False\n",
            "True\n",
            "True\n",
            "False\n",
            "True\n"
          ]
        }
      ]
    },
    {
      "cell_type": "code",
      "source": [
        "numbers = [i for i in range(1,7)]"
      ],
      "metadata": {
        "id": "givmCeo57uM3"
      },
      "execution_count": null,
      "outputs": []
    },
    {
      "cell_type": "code",
      "source": [
        "for i in numbers:\n",
        "  squares = lambda x:x**2\n",
        "  print(squares(i))"
      ],
      "metadata": {
        "colab": {
          "base_uri": "https://localhost:8080/"
        },
        "id": "qO5AX2XR8Fd3",
        "outputId": "02af5f85-4ce1-4438-8925-bd153f82d674"
      },
      "execution_count": null,
      "outputs": [
        {
          "output_type": "stream",
          "name": "stdout",
          "text": [
            "1\n",
            "4\n",
            "9\n",
            "16\n",
            "25\n",
            "36\n"
          ]
        }
      ]
    },
    {
      "cell_type": "code",
      "source": [
        "def numbers(first,second,third,*all):\n",
        "  print(first)\n",
        "  print(second)\n",
        "  print(third)\n",
        "  print(all)"
      ],
      "metadata": {
        "id": "IKWVCkuJ8Mxr"
      },
      "execution_count": null,
      "outputs": []
    },
    {
      "cell_type": "code",
      "source": [
        "numbers(1,2,3,4,5,6,7)"
      ],
      "metadata": {
        "colab": {
          "base_uri": "https://localhost:8080/"
        },
        "id": "es3D0Stk82dN",
        "outputId": "5575aa60-a8c7-452b-fd95-1005f1f86638"
      },
      "execution_count": null,
      "outputs": [
        {
          "output_type": "stream",
          "name": "stdout",
          "text": [
            "1\n",
            "2\n",
            "3\n",
            "(4, 5, 6, 7)\n"
          ]
        }
      ]
    },
    {
      "cell_type": "code",
      "source": [
        "def foo(a, b, c, *args):\n",
        "    return len(args)\n",
        "\n",
        "def bar(a, b, c, **kwargs):\n",
        "    return kwargs[\"magicnumber\"] == 7\n",
        "\n",
        "\n",
        "# test code\n",
        "if foo(1, 2, 3, 4) == 1:\n",
        "    print(\"Good.\")\n",
        "if foo(1, 2, 3, 4, 5) == 2:\n",
        "    print(\"Better.\")\n",
        "if bar(1, 2, 3, magicnumber=6) == False:\n",
        "    print(\"Great.\")\n",
        "if bar(1, 2, 3, magicnumber=7) == True:\n",
        "    print(\"Awesome!\")"
      ],
      "metadata": {
        "colab": {
          "base_uri": "https://localhost:8080/"
        },
        "id": "XGOVrU1985BY",
        "outputId": "b020ef28-d02e-4b22-87f8-b0abd1106952"
      },
      "execution_count": null,
      "outputs": [
        {
          "output_type": "stream",
          "name": "stdout",
          "text": [
            "Good.\n",
            "Better.\n",
            "Great.\n",
            "Awesome!\n"
          ]
        }
      ]
    },
    {
      "cell_type": "code",
      "source": [
        "def sum(a,b,**option):\n",
        "  if option.get('add') == \"sum\":\n",
        "    return a+b\n",
        "  else:\n",
        "    return a-b"
      ],
      "metadata": {
        "id": "EAXGHHfg9zW5"
      },
      "execution_count": null,
      "outputs": []
    },
    {
      "cell_type": "code",
      "source": [
        "sum(1,2,add=\"sum\")"
      ],
      "metadata": {
        "colab": {
          "base_uri": "https://localhost:8080/"
        },
        "id": "iE7etNyw-JSD",
        "outputId": "6cea3a54-5459-494e-be37-c6dd402d56ed"
      },
      "execution_count": null,
      "outputs": [
        {
          "output_type": "execute_result",
          "data": {
            "text/plain": [
              "3"
            ]
          },
          "metadata": {},
          "execution_count": 69
        }
      ]
    },
    {
      "cell_type": "code",
      "source": [
        "def num(**kwargs):\n",
        "  for i in kwargs:\n",
        "    print(i,kwargs[i])"
      ],
      "metadata": {
        "id": "0Bw4WlRu-Oim"
      },
      "execution_count": null,
      "outputs": []
    },
    {
      "cell_type": "code",
      "source": [
        "num(a=11,n=10,c=14,d=10)"
      ],
      "metadata": {
        "colab": {
          "base_uri": "https://localhost:8080/"
        },
        "id": "BKbUyiTT_ki6",
        "outputId": "5679f0f1-2088-4890-e056-6f1978adfd2e"
      },
      "execution_count": null,
      "outputs": [
        {
          "output_type": "stream",
          "name": "stdout",
          "text": [
            "a 11\n",
            "n 10\n",
            "c 14\n",
            "d 10\n"
          ]
        }
      ]
    },
    {
      "cell_type": "code",
      "source": [
        "nums=['11','22','33','44','55']"
      ],
      "metadata": {
        "id": "p_jYM4HB_obc"
      },
      "execution_count": null,
      "outputs": []
    },
    {
      "cell_type": "code",
      "source": [
        "nums_ = [ int(i) for i in nums]"
      ],
      "metadata": {
        "id": "ivuc4Z6T_4Wn"
      },
      "execution_count": null,
      "outputs": []
    },
    {
      "cell_type": "code",
      "source": [
        "nums_"
      ],
      "metadata": {
        "colab": {
          "base_uri": "https://localhost:8080/"
        },
        "id": "ZvOK-zKY__ft",
        "outputId": "f4fe4042-56a2-471a-e851-030d0cdc8cce"
      },
      "execution_count": null,
      "outputs": [
        {
          "output_type": "execute_result",
          "data": {
            "text/plain": [
              "[11, 22, 33, 44, 55]"
            ]
          },
          "metadata": {},
          "execution_count": 87
        }
      ]
    },
    {
      "cell_type": "code",
      "source": [
        "names = ['uma','mahes','mam','amma']"
      ],
      "metadata": {
        "id": "qmk7BeqYAuu-"
      },
      "execution_count": null,
      "outputs": []
    },
    {
      "cell_type": "code",
      "source": [
        "palindrome = [ print(name + \" is a palindrome\") for name in names if name == name[::-1]]"
      ],
      "metadata": {
        "colab": {
          "base_uri": "https://localhost:8080/"
        },
        "id": "IPct1wVsAlbv",
        "outputId": "1a3d35ac-8865-4d31-ff7d-b3a14e34cd74"
      },
      "execution_count": null,
      "outputs": [
        {
          "output_type": "stream",
          "name": "stdout",
          "text": [
            "mam is a palindrome\n",
            "amma is a palindrome\n"
          ]
        }
      ]
    },
    {
      "cell_type": "code",
      "source": [
        "def num(n):\n",
        "  print(n)\n",
        "\n",
        "def numbers():\n",
        "  lst = (1,2,3,4)"
      ],
      "metadata": {
        "id": "DNWjUhsCA7_w"
      },
      "execution_count": null,
      "outputs": []
    },
    {
      "cell_type": "code",
      "source": [
        "def double_Ii(old_function):\n",
        "    def new_function(arg): # only works if the old function has one argument\n",
        "        return old_function(arg * 2) # modify the argument passed\n",
        "    return new_function"
      ],
      "metadata": {
        "id": "ldXZ0ImeB61t"
      },
      "execution_count": null,
      "outputs": []
    },
    {
      "cell_type": "code",
      "source": [
        "def multiply(multiplier):\n",
        "    def multiply_generator(old_function):\n",
        "        def new_function(*args, **kwds):\n",
        "            return multiplier * old_function(*args, **kwds)\n",
        "        return new_function\n",
        "    return multiply_generator # it returns the new generator\n",
        "\n",
        "# Usage\n",
        "@multiply(3) # multiply is not a generator, but multiply(3) is\n",
        "def return_num(num):\n",
        "    return num\n",
        "\n",
        "# Now return_num is decorated and reassigned into itself\n",
        "return_num(5) # should return 15"
      ],
      "metadata": {
        "colab": {
          "base_uri": "https://localhost:8080/"
        },
        "id": "zVEg1VfADFka",
        "outputId": "4c789d72-fd00-4505-af03-b760d6ee4445"
      },
      "execution_count": null,
      "outputs": [
        {
          "output_type": "execute_result",
          "data": {
            "text/plain": [
              "15"
            ]
          },
          "metadata": {},
          "execution_count": 97
        }
      ]
    },
    {
      "cell_type": "code",
      "source": [
        "def my_decorator(func):\n",
        "    def wrapper():\n",
        "        print(\"Something is happening before the function is called.\")\n",
        "        func()\n",
        "        print(\"Something is happening after the function is called.\")\n",
        "    return wrapper\n",
        "\n",
        "@my_decorator\n",
        "def say_hello():\n",
        "    print(\"Hello!\")\n",
        "\n",
        "say_hello()\n"
      ],
      "metadata": {
        "colab": {
          "base_uri": "https://localhost:8080/"
        },
        "id": "1S0ePhwrDKeK",
        "outputId": "01f5d408-b6f5-4770-fff0-ec5b0ecc2d9d"
      },
      "execution_count": null,
      "outputs": [
        {
          "output_type": "stream",
          "name": "stdout",
          "text": [
            "Something is happening before the function is called.\n",
            "Hello!\n",
            "Something is happening after the function is called.\n"
          ]
        }
      ]
    },
    {
      "cell_type": "code",
      "source": [
        "def log_function_call(func):\n",
        "    def wrapper(*args, **kwargs):\n",
        "        print(f\"Calling function {func.__name__} with arguments {args} and keyword arguments {kwargs}\")\n",
        "        result = func(*args, **kwargs)\n",
        "        print(f\"{func.__name__} returned {result}\")\n",
        "        return result\n",
        "    return wrapper\n",
        "\n",
        "@log_function_call\n",
        "def add(a, b):\n",
        "    return a + b\n",
        "\n",
        "add(3, 4)\n"
      ],
      "metadata": {
        "colab": {
          "base_uri": "https://localhost:8080/"
        },
        "id": "ri5pIRaiDvuP",
        "outputId": "692c51be-787e-4d59-ed66-99f06e16ac45"
      },
      "execution_count": null,
      "outputs": [
        {
          "output_type": "stream",
          "name": "stdout",
          "text": [
            "Calling function add with arguments (3, 4) and keyword arguments {}\n",
            "add returned 7\n"
          ]
        },
        {
          "output_type": "execute_result",
          "data": {
            "text/plain": [
              "7"
            ]
          },
          "metadata": {},
          "execution_count": 99
        }
      ]
    },
    {
      "cell_type": "code",
      "source": [
        "def require_authorization(func):\n",
        "    def wrapper(user, *args, **kwargs):\n",
        "        if not user.is_authorized:\n",
        "            raise PermissionError(\"User not authorized\")\n",
        "        return func(user, *args, **kwargs)\n",
        "    return wrapper\n",
        "\n",
        "class User:\n",
        "    def __init__(self, name, is_authorized):\n",
        "        self.name = name\n",
        "        self.is_authorized = is_authorized\n",
        "\n",
        "@require_authorization\n",
        "def view_dashboard(user):\n",
        "    return f\"Welcome {user.name} to the dashboard!\"\n",
        "\n",
        "user1 = User(\"Alice\", True)\n",
        "user2 = User(\"Bob\", False)\n",
        "\n",
        "print(view_dashboard(user1))\n",
        "#print(view_dashboard(user2))  # This will raise a PermissionError\n"
      ],
      "metadata": {
        "colab": {
          "base_uri": "https://localhost:8080/"
        },
        "id": "dOd3EG-tD2Gz",
        "outputId": "b43a2e25-e8ae-44a7-820f-cb07e79fc5e6"
      },
      "execution_count": null,
      "outputs": [
        {
          "output_type": "stream",
          "name": "stdout",
          "text": [
            "Welcome Alice to the dashboard!\n"
          ]
        }
      ]
    },
    {
      "cell_type": "code",
      "source": [
        "#if we have a 1000 records in database and we don't what to iterate over 1000 records if we want to only one or more than one record then we can use generator"
      ],
      "metadata": {
        "id": "ZHlfV3TZtHay"
      },
      "execution_count": null,
      "outputs": []
    },
    {
      "cell_type": "code",
      "source": [
        "def topten():\n",
        "  n=1\n",
        "  while n<=10:\n",
        "    sq = n*n\n",
        "    yield sq\n",
        "    n+=1"
      ],
      "metadata": {
        "id": "fD0NhLaIEUn8"
      },
      "execution_count": null,
      "outputs": []
    },
    {
      "cell_type": "code",
      "source": [
        "values = topten()"
      ],
      "metadata": {
        "id": "UM5zywuMs0-c"
      },
      "execution_count": null,
      "outputs": []
    },
    {
      "cell_type": "code",
      "source": [
        "for i in values:\n",
        "  print(i)"
      ],
      "metadata": {
        "colab": {
          "base_uri": "https://localhost:8080/"
        },
        "id": "wq9BnS2Qs3fg",
        "outputId": "4ff079a9-7af8-43d3-ef65-4f9c13bf76e0"
      },
      "execution_count": null,
      "outputs": [
        {
          "output_type": "stream",
          "name": "stdout",
          "text": [
            "1\n",
            "4\n",
            "9\n",
            "16\n",
            "25\n",
            "36\n",
            "49\n",
            "64\n",
            "81\n",
            "100\n"
          ]
        }
      ]
    },
    {
      "cell_type": "code",
      "source": [
        "# decorator is used to modify the code without changing the existing code i.e main code"
      ],
      "metadata": {
        "id": "dMtXPwrqs4iP"
      },
      "execution_count": null,
      "outputs": []
    },
    {
      "cell_type": "code",
      "source": [
        "def div(a,b):\n",
        "  print(a/b)\n",
        "\n",
        "def smart_div(func):\n",
        "  def inner(a,b):\n",
        "    if a<b:\n",
        "      a,b = b,a\n",
        "    return func(a,b)\n",
        "  return inner"
      ],
      "metadata": {
        "id": "qz_XyK7ZuH51"
      },
      "execution_count": null,
      "outputs": []
    },
    {
      "cell_type": "code",
      "source": [
        "div1 = smart_div(div)"
      ],
      "metadata": {
        "id": "Otlsf0BhvVN9"
      },
      "execution_count": null,
      "outputs": []
    },
    {
      "cell_type": "code",
      "source": [
        "div1(2,4)"
      ],
      "metadata": {
        "colab": {
          "base_uri": "https://localhost:8080/"
        },
        "id": "kdqQH2j4vYnO",
        "outputId": "422166cb-0b80-4d03-da37-7460a63b5e02"
      },
      "execution_count": null,
      "outputs": [
        {
          "output_type": "stream",
          "name": "stdout",
          "text": [
            "2.0\n"
          ]
        }
      ]
    },
    {
      "cell_type": "code",
      "source": [
        "# class is design / blueprint\n",
        "# object is instance\n",
        "# In class we put attributes(i.e variables),Behaviour (methods : functions)"
      ],
      "metadata": {
        "id": "uvcg8vNCvaSO"
      },
      "execution_count": null,
      "outputs": []
    },
    {
      "cell_type": "code",
      "source": [
        "class Computer: # class name\n",
        "    def config(self):\n",
        "      print(\"i5,16GB,1TB\")"
      ],
      "metadata": {
        "id": "WXrIyAPUwZTf"
      },
      "execution_count": null,
      "outputs": []
    },
    {
      "cell_type": "code",
      "source": [
        "comp = Computer() # comp is a object"
      ],
      "metadata": {
        "id": "bKAoUFjiyCJ1"
      },
      "execution_count": null,
      "outputs": []
    },
    {
      "cell_type": "code",
      "source": [
        "comp.config()"
      ],
      "metadata": {
        "colab": {
          "base_uri": "https://localhost:8080/"
        },
        "id": "E8rL7iBMyFJ_",
        "outputId": "ca9afb9a-9290-4281-c8a8-04dad69df488"
      },
      "execution_count": null,
      "outputs": [
        {
          "output_type": "stream",
          "name": "stdout",
          "text": [
            "i5,16GB,1TB\n"
          ]
        }
      ]
    },
    {
      "cell_type": "code",
      "source": [
        "type(comp)"
      ],
      "metadata": {
        "colab": {
          "base_uri": "https://localhost:8080/"
        },
        "id": "qZtYJ-SMyHec",
        "outputId": "b78169e4-5c96-40a4-fd68-7341909e5768"
      },
      "execution_count": null,
      "outputs": [
        {
          "output_type": "execute_result",
          "data": {
            "text/plain": [
              "__main__.Computer"
            ]
          },
          "metadata": {},
          "execution_count": 20
        }
      ]
    },
    {
      "cell_type": "code",
      "source": [
        "Computer.config(comp)"
      ],
      "metadata": {
        "colab": {
          "base_uri": "https://localhost:8080/"
        },
        "id": "eJ9o2si6yp6t",
        "outputId": "87c04e44-eef9-483d-d1d4-f18350f49382"
      },
      "execution_count": null,
      "outputs": [
        {
          "output_type": "stream",
          "name": "stdout",
          "text": [
            "i5,16GB,1TB\n"
          ]
        }
      ]
    },
    {
      "cell_type": "code",
      "source": [
        "#__init__ method  : it is a constructor"
      ],
      "metadata": {
        "id": "h2FoAiaky71q"
      },
      "execution_count": null,
      "outputs": []
    },
    {
      "cell_type": "code",
      "source": [
        "class Computer:\n",
        "  def __init__(self,cpu,ram):\n",
        "    self.cpu = cpu\n",
        "    self.ram = ram\n",
        "\n",
        "  def config(self):\n",
        "    print(f\"config is CPU :{self.cpu},RAM is {self.ram}\")"
      ],
      "metadata": {
        "id": "wy3EVgdzzvIY"
      },
      "execution_count": null,
      "outputs": []
    },
    {
      "cell_type": "code",
      "source": [
        "com = Computer(\"i5\",16)"
      ],
      "metadata": {
        "id": "8xZDGfPh0zCQ"
      },
      "execution_count": null,
      "outputs": []
    },
    {
      "cell_type": "code",
      "source": [
        "com.config()"
      ],
      "metadata": {
        "colab": {
          "base_uri": "https://localhost:8080/"
        },
        "id": "Q8K_wK6j033i",
        "outputId": "27b753cb-8c8e-4d2d-908a-9929a0fd888a"
      },
      "execution_count": null,
      "outputs": [
        {
          "output_type": "stream",
          "name": "stdout",
          "text": [
            "config is CPU :i5,RAM is 16\n"
          ]
        }
      ]
    },
    {
      "cell_type": "code",
      "source": [
        "# everytime we create an object it is allocated to new space\n",
        "# constructor is used to allocate the space taken by an object\n",
        "# self is pointer which points to an object whether to point object1 or object2"
      ],
      "metadata": {
        "id": "mNDAR6bj0524"
      },
      "execution_count": null,
      "outputs": []
    },
    {
      "cell_type": "code",
      "source": [
        "# class variable : if we define a variable outside of function\n",
        "# instance variable : if we define a variable inside the function"
      ],
      "metadata": {
        "id": "dFWG5c5t1qrx"
      },
      "execution_count": null,
      "outputs": []
    },
    {
      "cell_type": "code",
      "source": [
        "# namespace : it is an area where we create and store object/value.\n",
        "#:- class namespace : class variables\n",
        "#:- object/instance namespace : instance variable"
      ],
      "metadata": {
        "id": "KAGKo8Xb4Ffv"
      },
      "execution_count": null,
      "outputs": []
    },
    {
      "cell_type": "code",
      "source": [
        "class Car:\n",
        "  wheel = 4 # class namespace\n",
        "  def __init__(self):\n",
        "    self.milleage = 10 # instance namespace\n",
        "    self.car = \"bmw\"\n"
      ],
      "metadata": {
        "id": "_YP_QQv-4YCi"
      },
      "execution_count": null,
      "outputs": []
    },
    {
      "cell_type": "code",
      "source": [
        "c1 = Car()"
      ],
      "metadata": {
        "id": "G9QmdzB-4zeH"
      },
      "execution_count": null,
      "outputs": []
    },
    {
      "cell_type": "code",
      "source": [
        "c2 = Car()"
      ],
      "metadata": {
        "id": "d45pbnJI41aA"
      },
      "execution_count": null,
      "outputs": []
    },
    {
      "cell_type": "code",
      "source": [
        "c1.milleage"
      ],
      "metadata": {
        "colab": {
          "base_uri": "https://localhost:8080/"
        },
        "id": "Gpf9658a43rA",
        "outputId": "b4e98fd1-c7df-4194-e848-58474293270a"
      },
      "execution_count": null,
      "outputs": [
        {
          "output_type": "execute_result",
          "data": {
            "text/plain": [
              "10"
            ]
          },
          "metadata": {},
          "execution_count": 51
        }
      ]
    },
    {
      "cell_type": "code",
      "source": [
        "# types of methods\n",
        "# instance methods : Accessor Methods(fetch the values) & Mutator Methods(modify the values)\n",
        "# class methods\n",
        "# static methods"
      ],
      "metadata": {
        "id": "iFf0Zo9X4_PP"
      },
      "execution_count": null,
      "outputs": []
    },
    {
      "cell_type": "code",
      "source": [
        "class Student:\n",
        "  school = \"DPS\"\n",
        "  def __init__(self,m1,m2,m3):\n",
        "    self.m1 = m1\n",
        "    self.m2 = m2\n",
        "    self.m3 = m3\n",
        "  def avg(self):\n",
        "    return (self.m1+self.m2+self.m3)/3 # instance method"
      ],
      "metadata": {
        "id": "SyuCr9Zb6Aer"
      },
      "execution_count": null,
      "outputs": []
    },
    {
      "cell_type": "code",
      "source": [
        "s1 = Student(75,45,48)"
      ],
      "metadata": {
        "id": "QZqfbqSg6ox6"
      },
      "execution_count": null,
      "outputs": []
    },
    {
      "cell_type": "code",
      "source": [
        "s1.avg()"
      ],
      "metadata": {
        "colab": {
          "base_uri": "https://localhost:8080/"
        },
        "id": "eNBkwQzw6uNj",
        "outputId": "be2c3214-937e-43e5-f176-334627263eca"
      },
      "execution_count": null,
      "outputs": [
        {
          "output_type": "execute_result",
          "data": {
            "text/plain": [
              "56.0"
            ]
          },
          "metadata": {},
          "execution_count": 55
        }
      ]
    },
    {
      "cell_type": "code",
      "source": [
        "s1.school"
      ],
      "metadata": {
        "colab": {
          "base_uri": "https://localhost:8080/",
          "height": 35
        },
        "id": "vchUJEHK6wip",
        "outputId": "433b2734-2e64-46e5-c514-77526eb71322"
      },
      "execution_count": null,
      "outputs": [
        {
          "output_type": "execute_result",
          "data": {
            "text/plain": [
              "'DPS'"
            ],
            "application/vnd.google.colaboratory.intrinsic+json": {
              "type": "string"
            }
          },
          "metadata": {},
          "execution_count": 56
        }
      ]
    },
    {
      "cell_type": "code",
      "source": [
        "# inheritence : child class inherits all the features of class"
      ],
      "metadata": {
        "id": "OhYgGvA96ypc"
      },
      "execution_count": null,
      "outputs": []
    },
    {
      "cell_type": "code",
      "source": [
        "class A:\n",
        "  def feature1(self):\n",
        "    print(\"A\")\n",
        "  def feature2(self):\n",
        "    print(\"B\")\n",
        "\n",
        "class B(A): # B is child class/sub class of A\n",
        "  def feature3(self):\n",
        "    print(\"C\")\n",
        "  def feature4(self):\n",
        "    print(\"D\")\n",
        "\n",
        "class C(B):\n",
        "  def feature5(self):\n",
        "    print(\"E\")\n",
        "  def feature6(self):\n",
        "    print(\"F\")"
      ],
      "metadata": {
        "id": "xlPpk7X78Dw1"
      },
      "execution_count": null,
      "outputs": []
    },
    {
      "cell_type": "code",
      "source": [
        "c1 =C()"
      ],
      "metadata": {
        "id": "NMhjgN498W4h"
      },
      "execution_count": null,
      "outputs": []
    },
    {
      "cell_type": "code",
      "source": [
        "c1.feature1()"
      ],
      "metadata": {
        "colab": {
          "base_uri": "https://localhost:8080/"
        },
        "id": "s9NpmnX29dJa",
        "outputId": "fb2b2039-78ce-44cd-9d1e-a3ec9255522b"
      },
      "execution_count": null,
      "outputs": [
        {
          "output_type": "stream",
          "name": "stdout",
          "text": [
            "A\n"
          ]
        }
      ]
    },
    {
      "cell_type": "code",
      "source": [
        "b1  = B()"
      ],
      "metadata": {
        "id": "rnKpRvej98f6"
      },
      "execution_count": null,
      "outputs": []
    },
    {
      "cell_type": "code",
      "source": [
        "b1.feature1()"
      ],
      "metadata": {
        "colab": {
          "base_uri": "https://localhost:8080/"
        },
        "id": "GB_B4k9n8_hL",
        "outputId": "9e781626-2909-4f9f-b1bd-989e03bf99ce"
      },
      "execution_count": null,
      "outputs": [
        {
          "output_type": "stream",
          "name": "stdout",
          "text": [
            "A\n"
          ]
        }
      ]
    },
    {
      "cell_type": "code",
      "source": [
        "a1.feature1()"
      ],
      "metadata": {
        "colab": {
          "base_uri": "https://localhost:8080/"
        },
        "id": "kL4Z--Hj8YlS",
        "outputId": "85150332-371b-4fb5-c490-a5eb07b91ea4"
      },
      "execution_count": null,
      "outputs": [
        {
          "output_type": "stream",
          "name": "stdout",
          "text": [
            "A\n"
          ]
        }
      ]
    },
    {
      "cell_type": "code",
      "source": [
        "a1.feature2()"
      ],
      "metadata": {
        "colab": {
          "base_uri": "https://localhost:8080/"
        },
        "id": "oCx-Ek7s8a5v",
        "outputId": "768746ff-3cef-4fad-ffc0-b24e1c5522c0"
      },
      "execution_count": null,
      "outputs": [
        {
          "output_type": "stream",
          "name": "stdout",
          "text": [
            "B\n"
          ]
        }
      ]
    },
    {
      "cell_type": "code",
      "source": [
        "#polymorphism : have Duck Typing, Operator Overloading, Method Overloading, Method Overriding"
      ],
      "metadata": {
        "id": "QQcI_1jU8k1u"
      },
      "execution_count": null,
      "outputs": []
    },
    {
      "cell_type": "code",
      "source": [
        "# one thing can behave in many ways\n",
        "# poly : many\n",
        "# morph : forms"
      ],
      "metadata": {
        "id": "4lC120Uf-_z2"
      },
      "execution_count": null,
      "outputs": []
    },
    {
      "cell_type": "code",
      "source": [],
      "metadata": {
        "id": "DoSiA9NZ_cOs"
      },
      "execution_count": null,
      "outputs": []
    }
  ]
}